{
 "cells": [
  {
   "cell_type": "code",
   "execution_count": 37,
   "metadata": {},
   "outputs": [],
   "source": [
    "import pandas as pd\n",
    "PATH = 'epir_train/'\n",
    "articles = pd.read_csv(PATH + 'articles.csv')\n",
    "life_situations = pd.read_csv(PATH + 'life_situations.csv')\n",
    "news = pd.read_csv(PATH + 'news.csv')\n",
    "services = pd.read_csv(PATH + 'services.csv')"
   ]
  },
  {
   "cell_type": "code",
   "execution_count": 38,
   "metadata": {},
   "outputs": [],
   "source": [
    "def clean_df(df):\n",
    "    # rename Unnamed: 0 to true_id\n",
    "    df = df.rename(columns={'Unnamed: 0': 'true_id'})\n",
    "    \n",
    "    text_cols = []\n",
    "    for col in df.columns:\n",
    "        if col not in ['id', 'sys_lang', 'subid', 'URL']:\n",
    "            text_cols.append(col)\n",
    "\n",
    "    df[text_cols] = df[text_cols].fillna('').astype(str)\n",
    "    mask = df[text_cols].apply(lambda x: x.str.split().str.len() < 5).all(axis=1)\n",
    "\n",
    "    print(\"Rows that will be deleted:\")\n",
    "    print(df[mask])\n",
    "\n",
    "    df = df.drop(df[mask].index)\n",
    "    return df"
   ]
  },
  {
   "cell_type": "code",
   "execution_count": 39,
   "metadata": {},
   "outputs": [],
   "source": [
    "# apply cleaning for all dfs\n",
    "articles = clean_df(articles)\n",
    "life_situations = clean_df(life_situations)\n",
    "news = clean_df(news)\n",
    "services = clean_df(services)"
   ]
  },
  {
   "cell_type": "code",
   "execution_count": null,
   "metadata": {},
   "outputs": [
    {
     "name": "stdout",
     "output_type": "stream",
     "text": [
      "Articles columns:\n",
      "Index(['true_id', 'id', 'sys_lang', 'projects', 'title', 'content', 'url'], dtype='object')\n",
      "Life situations columns:\n",
      "Index(['true_id', 'id', 'sys_lang', 'intro', 'title_main', 'title_sub',\n",
      "       'subid', 'instruction', 'URL'],\n",
      "      dtype='object')\n",
      "News columns:\n",
      "Index(['true_id', 'id', 'sys_lang', 'projects', 'title', 'body',\n",
      "       'short_description', 'url'],\n",
      "      dtype='object')\n",
      "Services columns:\n",
      "Index(['true_id', 'id', 'sys_lang', 'additional_info', 'description',\n",
      "       'full_title', 'short_title', 'title', 'result_description', 'url'],\n",
      "      dtype='object')\n"
     ]
    }
   ],
   "source": [
    "# list the column names for all dataframes\n",
    "print(\"Articles columns:\")\n",
    "print(articles.columns)\n",
    "print(\"Life situations columns:\")\n",
    "print(life_situations.columns)\n",
    "print(\"News columns:\")\n",
    "print(news.columns)\n",
    "print(\"Services columns:\")\n",
    "print(services.columns)"
   ]
  },
  {
   "cell_type": "code",
   "execution_count": null,
   "metadata": {},
   "outputs": [],
   "source": [
    "# save the dataframes in data folder\n",
    "articles.to_csv('data/cleaned/articles.csv')\n",
    "news.to_csv('data/cleaned/news.csv')\n",
    "life_situations.to_csv('data/cleaned/life_situations.csv')\n",
    "services.to_csv('data/cleaned/services.csv')"
   ]
  }
 ],
 "metadata": {
  "kernelspec": {
   "display_name": "Python 3",
   "language": "python",
   "name": "python3"
  },
  "language_info": {
   "codemirror_mode": {
    "name": "ipython",
    "version": 3
   },
   "file_extension": ".py",
   "mimetype": "text/x-python",
   "name": "python",
   "nbconvert_exporter": "python",
   "pygments_lexer": "ipython3",
   "version": "3.8.10"
  }
 },
 "nbformat": 4,
 "nbformat_minor": 2
}
