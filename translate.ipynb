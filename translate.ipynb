{
 "cells": [
  {
   "cell_type": "code",
   "execution_count": 67,
   "metadata": {},
   "outputs": [],
   "source": [
    "from deep_translator import GoogleTranslator\n",
    "import json\n",
    "import glob\n",
    "import re\n",
    "import os\n",
    "import pandas as pd\n",
    "\n"
   ]
  },
  {
   "cell_type": "code",
   "execution_count": 56,
   "metadata": {},
   "outputs": [],
   "source": [
    "def split_string_into_chunks(text, max_chunk_size=500):\n",
    "    # Use regular expressions to split the text into sentences\n",
    "    # Assumes sentences end with \".\", \"!\", or \"?\", followed by a space or newline\n",
    "    sentences = re.split(r'(?<=[.!?])\\s+', text)\n",
    " \n",
    "    # Initialize variables\n",
    "    current_chunk = \"\"\n",
    "    chunks = []\n",
    " \n",
    "    # Iterate through sentences and add them to the current chunk\n",
    "    for sentence in sentences:\n",
    "        if len(current_chunk) + len(sentence) <= max_chunk_size:\n",
    "            current_chunk += sentence + \" \"\n",
    "        else:\n",
    "            # If adding the sentence would exceed the chunk size, start a new chunk\n",
    "            chunks.append(current_chunk.strip())\n",
    "            current_chunk = sentence + \" \"\n",
    " \n",
    "    # Add the last chunk, if any\n",
    "    if current_chunk:\n",
    "        while len(current_chunk) > 50:\n",
    "            chunks.append(current_chunk.strip())\n",
    " \n",
    "    return chunks"
   ]
  },
  {
   "cell_type": "code",
   "execution_count": 68,
   "metadata": {},
   "outputs": [
    {
     "name": "stdout",
     "output_type": "stream",
     "text": [
      "data/*.csv\n",
      "data/articles.csv\n"
     ]
    },
    {
     "ename": "NotValidLength",
     "evalue": "ҚАМ\" БК\" ЖШС мұнай кәсіпшілігі нысандарын кеңейту – 2021 ж (түзетулер)\" жұмыс жобасы https://www.youtube.com/watch?v=B8UAQC8XCQA&feature=youtu.be Орналастыру күні Хабарландыру 11.01.2022 ж \"ҚуатАмлонМұнай\" БК\" ЖШС ҚР Экологиялық кодексінің 96-бабына сәйкес 2022 жылғы 14 ақпан күні сағат 11.00-де Қызылорда облысы, Сырдария ауданы, Тереңөзек селосы, Абай көшесі 31 мекенжайы бойынша \"ҚАМ\" БК\" ЖШС мұнай кәсіпшілігі нысандарын кеңейту – 2021 ж (түзетулер)\" жұмыс жобасының \"Қоршаған ортаны қорғау бөлімі\" жобасы бойынша ашық жиналыс түрінде қоғамдық тыңдаулар өтетіндігін хабарлайды. --> Text length need to be between 0 and 500 characters",
     "output_type": "error",
     "traceback": [
      "\u001b[0;31m---------------------------------------------------------------------------\u001b[0m",
      "\u001b[0;31mNotValidLength\u001b[0m                            Traceback (most recent call last)",
      "\u001b[1;32m/home/yera/projects/pyth/translate/datasaur/translate.ipynb Cell 3\u001b[0m line \u001b[0;36m1\n\u001b[1;32m      <a href='vscode-notebook-cell:/home/yera/projects/pyth/translate/datasaur/translate.ipynb#W2sZmlsZQ%3D%3D?line=7'>8</a>\u001b[0m             chunks \u001b[39m=\u001b[39m split_string_into_chunks(df\u001b[39m.\u001b[39mat[ind, \u001b[39m\"\u001b[39m\u001b[39mtext\u001b[39m\u001b[39m\"\u001b[39m])\n\u001b[1;32m      <a href='vscode-notebook-cell:/home/yera/projects/pyth/translate/datasaur/translate.ipynb#W2sZmlsZQ%3D%3D?line=8'>9</a>\u001b[0m             df\u001b[39m.\u001b[39mat[ind, \u001b[39m\"\u001b[39m\u001b[39mtext\u001b[39m\u001b[39m\"\u001b[39m] \u001b[39m=\u001b[39m \u001b[39m'\u001b[39m\u001b[39m \u001b[39m\u001b[39m'\u001b[39m\u001b[39m.\u001b[39mjoin(MyMemoryTranslator(source\u001b[39m=\u001b[39m\u001b[39m'\u001b[39m\u001b[39mauto\u001b[39m\u001b[39m'\u001b[39m, target\u001b[39m=\u001b[39m\u001b[39m'\u001b[39m\u001b[39menglish\u001b[39m\u001b[39m'\u001b[39m)\u001b[39m.\u001b[39mtranslate_batch(chunks))\n\u001b[0;32m---> <a href='vscode-notebook-cell:/home/yera/projects/pyth/translate/datasaur/translate.ipynb#W2sZmlsZQ%3D%3D?line=11'>12</a>\u001b[0m translate(\u001b[39m\"\u001b[39;49m\u001b[39mdata\u001b[39;49m\u001b[39m\"\u001b[39;49m)\n",
      "\u001b[1;32m/home/yera/projects/pyth/translate/datasaur/translate.ipynb Cell 3\u001b[0m line \u001b[0;36m9\n\u001b[1;32m      <a href='vscode-notebook-cell:/home/yera/projects/pyth/translate/datasaur/translate.ipynb#W2sZmlsZQ%3D%3D?line=6'>7</a>\u001b[0m \u001b[39mfor\u001b[39;00m ind, _ \u001b[39min\u001b[39;00m df\u001b[39m.\u001b[39miterrows():\n\u001b[1;32m      <a href='vscode-notebook-cell:/home/yera/projects/pyth/translate/datasaur/translate.ipynb#W2sZmlsZQ%3D%3D?line=7'>8</a>\u001b[0m     chunks \u001b[39m=\u001b[39m split_string_into_chunks(df\u001b[39m.\u001b[39mat[ind, \u001b[39m\"\u001b[39m\u001b[39mtext\u001b[39m\u001b[39m\"\u001b[39m])\n\u001b[0;32m----> <a href='vscode-notebook-cell:/home/yera/projects/pyth/translate/datasaur/translate.ipynb#W2sZmlsZQ%3D%3D?line=8'>9</a>\u001b[0m     df\u001b[39m.\u001b[39mat[ind, \u001b[39m\"\u001b[39m\u001b[39mtext\u001b[39m\u001b[39m\"\u001b[39m] \u001b[39m=\u001b[39m \u001b[39m'\u001b[39m\u001b[39m \u001b[39m\u001b[39m'\u001b[39m\u001b[39m.\u001b[39mjoin(MyMemoryTranslator(source\u001b[39m=\u001b[39;49m\u001b[39m'\u001b[39;49m\u001b[39mauto\u001b[39;49m\u001b[39m'\u001b[39;49m, target\u001b[39m=\u001b[39;49m\u001b[39m'\u001b[39;49m\u001b[39menglish\u001b[39;49m\u001b[39m'\u001b[39;49m)\u001b[39m.\u001b[39;49mtranslate_batch(chunks))\n",
      "File \u001b[0;32m~/.local/lib/python3.10/site-packages/deep_translator/mymemory.py:113\u001b[0m, in \u001b[0;36mMyMemoryTranslator.translate_batch\u001b[0;34m(self, batch, **kwargs)\u001b[0m\n\u001b[1;32m    107\u001b[0m \u001b[39mdef\u001b[39;00m \u001b[39mtranslate_batch\u001b[39m(\u001b[39mself\u001b[39m, batch: List[\u001b[39mstr\u001b[39m], \u001b[39m*\u001b[39m\u001b[39m*\u001b[39mkwargs) \u001b[39m-\u001b[39m\u001b[39m>\u001b[39m List[\u001b[39mstr\u001b[39m]:\n\u001b[1;32m    108\u001b[0m     \u001b[39m\"\"\"\u001b[39;00m\n\u001b[1;32m    109\u001b[0m \u001b[39m    translate a list of texts\u001b[39;00m\n\u001b[1;32m    110\u001b[0m \u001b[39m    @param batch: list of texts you want to translate\u001b[39;00m\n\u001b[1;32m    111\u001b[0m \u001b[39m    @return: list of translations\u001b[39;00m\n\u001b[1;32m    112\u001b[0m \u001b[39m    \"\"\"\u001b[39;00m\n\u001b[0;32m--> 113\u001b[0m     \u001b[39mreturn\u001b[39;00m \u001b[39mself\u001b[39;49m\u001b[39m.\u001b[39;49m_translate_batch(batch, \u001b[39m*\u001b[39;49m\u001b[39m*\u001b[39;49mkwargs)\n",
      "File \u001b[0;32m~/.local/lib/python3.10/site-packages/deep_translator/base.py:181\u001b[0m, in \u001b[0;36mBaseTranslator._translate_batch\u001b[0;34m(self, batch, **kwargs)\u001b[0m\n\u001b[1;32m    179\u001b[0m arr \u001b[39m=\u001b[39m []\n\u001b[1;32m    180\u001b[0m \u001b[39mfor\u001b[39;00m i, text \u001b[39min\u001b[39;00m \u001b[39menumerate\u001b[39m(batch):\n\u001b[0;32m--> 181\u001b[0m     translated \u001b[39m=\u001b[39m \u001b[39mself\u001b[39;49m\u001b[39m.\u001b[39;49mtranslate(text, \u001b[39m*\u001b[39;49m\u001b[39m*\u001b[39;49mkwargs)\n\u001b[1;32m    182\u001b[0m     arr\u001b[39m.\u001b[39mappend(translated)\n\u001b[1;32m    183\u001b[0m \u001b[39mreturn\u001b[39;00m arr\n",
      "File \u001b[0;32m~/.local/lib/python3.10/site-packages/deep_translator/mymemory.py:57\u001b[0m, in \u001b[0;36mMyMemoryTranslator.translate\u001b[0;34m(self, text, return_all, **kwargs)\u001b[0m\n\u001b[1;32m     47\u001b[0m \u001b[39mdef\u001b[39;00m \u001b[39mtranslate\u001b[39m(\n\u001b[1;32m     48\u001b[0m     \u001b[39mself\u001b[39m, text: \u001b[39mstr\u001b[39m, return_all: \u001b[39mbool\u001b[39m \u001b[39m=\u001b[39m \u001b[39mFalse\u001b[39;00m, \u001b[39m*\u001b[39m\u001b[39m*\u001b[39mkwargs\n\u001b[1;32m     49\u001b[0m ) \u001b[39m-\u001b[39m\u001b[39m>\u001b[39m Union[\u001b[39mstr\u001b[39m, List[\u001b[39mstr\u001b[39m]]:\n\u001b[1;32m     50\u001b[0m     \u001b[39m\"\"\"\u001b[39;00m\n\u001b[1;32m     51\u001b[0m \u001b[39m    function that uses the mymemory translator to translate a text\u001b[39;00m\n\u001b[1;32m     52\u001b[0m \u001b[39m    @param text: desired text to translate\u001b[39;00m\n\u001b[0;32m   (...)\u001b[0m\n\u001b[1;32m     55\u001b[0m \u001b[39m    @return: str or list\u001b[39;00m\n\u001b[1;32m     56\u001b[0m \u001b[39m    \"\"\"\u001b[39;00m\n\u001b[0;32m---> 57\u001b[0m     \u001b[39mif\u001b[39;00m is_input_valid(text, max_chars\u001b[39m=\u001b[39;49m\u001b[39m500\u001b[39;49m):\n\u001b[1;32m     58\u001b[0m         text \u001b[39m=\u001b[39m text\u001b[39m.\u001b[39mstrip()\n\u001b[1;32m     59\u001b[0m         \u001b[39mif\u001b[39;00m \u001b[39mself\u001b[39m\u001b[39m.\u001b[39m_same_source_target() \u001b[39mor\u001b[39;00m is_empty(text):\n",
      "File \u001b[0;32m~/.local/lib/python3.10/site-packages/deep_translator/validate.py:41\u001b[0m, in \u001b[0;36mis_input_valid\u001b[0;34m(text, min_chars, max_chars)\u001b[0m\n\u001b[1;32m     39\u001b[0m     \u001b[39mraise\u001b[39;00m NotValidPayload(text)\n\u001b[1;32m     40\u001b[0m \u001b[39mif\u001b[39;00m max_chars \u001b[39mand\u001b[39;00m (\u001b[39mnot\u001b[39;00m min_chars \u001b[39m<\u001b[39m\u001b[39m=\u001b[39m \u001b[39mlen\u001b[39m(text) \u001b[39m<\u001b[39m max_chars):\n\u001b[0;32m---> 41\u001b[0m     \u001b[39mraise\u001b[39;00m NotValidLength(text, min_chars, max_chars)\n\u001b[1;32m     43\u001b[0m \u001b[39mreturn\u001b[39;00m \u001b[39mTrue\u001b[39;00m\n",
      "\u001b[0;31mNotValidLength\u001b[0m: ҚАМ\" БК\" ЖШС мұнай кәсіпшілігі нысандарын кеңейту – 2021 ж (түзетулер)\" жұмыс жобасы https://www.youtube.com/watch?v=B8UAQC8XCQA&feature=youtu.be Орналастыру күні Хабарландыру 11.01.2022 ж \"ҚуатАмлонМұнай\" БК\" ЖШС ҚР Экологиялық кодексінің 96-бабына сәйкес 2022 жылғы 14 ақпан күні сағат 11.00-де Қызылорда облысы, Сырдария ауданы, Тереңөзек селосы, Абай көшесі 31 мекенжайы бойынша \"ҚАМ\" БК\" ЖШС мұнай кәсіпшілігі нысандарын кеңейту – 2021 ж (түзетулер)\" жұмыс жобасының \"Қоршаған ортаны қорғау бөлімі\" жобасы бойынша ашық жиналыс түрінде қоғамдық тыңдаулар өтетіндігін хабарлайды. --> Text length need to be between 0 and 500 characters"
     ]
    }
   ],
   "source": [
    "def translate(path):\n",
    "    print(rf'{path}/*.csv')\n",
    "    for file in glob.glob(rf'{path}/*.csv'):\n",
    "        print(file)\n",
    "        df = pd.read_csv(file, index_col=\"Unnamed: 0\", engine=\"python\")\n",
    "        \n",
    "        for ind, _ in df.iterrows():\n",
    "            chunks = split_string_into_chunks(df.at[ind, \"text\"])\n",
    "            df.at[ind, \"text\"] = ' '.join(GoogleTranslator(source='auto', target='english').translate_batch(chunks))\n",
    "        \n",
    "\n",
    "translate(\"data\")"
   ]
  }
 ],
 "metadata": {
  "kernelspec": {
   "display_name": "Python 3",
   "language": "python",
   "name": "python3"
  },
  "language_info": {
   "codemirror_mode": {
    "name": "ipython",
    "version": 3
   },
   "file_extension": ".py",
   "mimetype": "text/x-python",
   "name": "python",
   "nbconvert_exporter": "python",
   "pygments_lexer": "ipython3",
   "version": "3.10.12"
  }
 },
 "nbformat": 4,
 "nbformat_minor": 2
}
