{
 "cells": [
  {
   "cell_type": "code",
   "execution_count": 2,
   "metadata": {},
   "outputs": [],
   "source": [
    "from deep_translator import GoogleTranslator\n",
    "import json\n",
    "import glob\n",
    "import re\n",
    "import os\n",
    "import pandas as pd\n",
    "\n"
   ]
  },
  {
   "cell_type": "code",
   "execution_count": 3,
   "metadata": {},
   "outputs": [],
   "source": [
    "def split_string_into_chunks(text, max_chunk_size=500):\n",
    "    # Use regular expressions to split the text into sentences\n",
    "    # Assumes sentences end with \".\", \"!\", or \"?\", followed by a space or newline\n",
    "    sentences = re.split(r'(?<=[.!?])\\s+', text)\n",
    " \n",
    "    # Initialize variables\n",
    "    current_chunk = \"\"\n",
    "    chunks = []\n",
    " \n",
    "    # Iterate through sentences and add them to the current chunk\n",
    "    for sentence in sentences:\n",
    "        if len(current_chunk) + len(sentence) <= max_chunk_size:\n",
    "            current_chunk += sentence + \" \"\n",
    "        else:\n",
    "            # If adding the sentence would exceed the chunk size, start a new chunk\n",
    "            chunks.append(current_chunk.strip())\n",
    "            current_chunk = sentence + \" \"\n",
    " \n",
    "    # Add the last chunk, if any\n",
    "    if current_chunk:\n",
    "        while len(current_chunk) > 50:\n",
    "            chunks.append(current_chunk.strip())\n",
    " \n",
    "    return chunks"
   ]
  },
  {
   "cell_type": "code",
   "execution_count": 4,
   "metadata": {},
   "outputs": [
    {
     "name": "stdout",
     "output_type": "stream",
     "text": [
      "data/*.csv\n",
      "data/articles.csv\n"
     ]
    },
    {
     "ename": "",
     "evalue": "",
     "output_type": "error",
     "traceback": [
      "\u001b[1;31mThe Kernel crashed while executing code in the the current cell or a previous cell. Please review the code in the cell(s) to identify a possible cause of the failure. Click <a href='https://aka.ms/vscodeJupyterKernelCrash'>here</a> for more info. View Jupyter <a href='command:jupyter.viewOutput'>log</a> for further details."
     ]
    }
   ],
   "source": [
    "def translate(path):\n",
    "    print(rf'{path}/*.csv')\n",
    "    translator = GoogleTranslator(source='auto', target='english')\n",
    "    for file in glob.glob(rf'{path}/*.csv'):\n",
    "        print(file)\n",
    "        df = pd.read_csv(file, index_col=\"Unnamed: 0\", engine=\"python\")\n",
    "        \n",
    "        for ind, _ in df.iterrows():\n",
    "            chunks = split_string_into_chunks(df.at[ind, \"text\"])\n",
    "\n",
    "            df.at[ind, \"text\"] = ' '.join(translator.translate_batch(chunks))\n",
    "        \n",
    "\n",
    "translate(\"data\")"
   ]
  },
  {
   "cell_type": "code",
   "execution_count": 6,
   "metadata": {},
   "outputs": [
    {
     "data": {
      "text/plain": [
       "'jdjdjlang=qq'"
      ]
     },
     "execution_count": 6,
     "metadata": {},
     "output_type": "execute_result"
    }
   ],
   "source": [
    "import detectlanguage\n",
    "\n",
    "detectlanguage.configuration.api_key = \"f9e49cf476c8e5b639f7aa07aa78a1e8\"\n",
    "\n",
    "skip = 5\n",
    "def detect(query, url, sys_lang ='en', max=1000):\n",
    "    if len(query) > max:\n",
    "        query=query[:max]\n",
    "    result = detectlanguage.detect(query)\n",
    "    lang = result[0]['language']\n",
    "    ind = url.find(\"lang=\")\n",
    "    if not ind:\n",
    "        return \"\"\n",
    "    if lang == 'kk':\n",
    "        if sys_lang != 'kk' and sys_lang != 'qq':\n",
    "            return \"\"\n",
    "        url = url[:ind+skip]+sys_lang\n",
    "        return url\n",
    "    \n",
    "    ind = url.find(\"lang=\")\n",
    "    url = url[:ind+skip]+lang\n",
    "    return url"
   ]
  }
 ],
 "metadata": {
  "kernelspec": {
   "display_name": "Python 3",
   "language": "python",
   "name": "python3"
  },
  "language_info": {
   "codemirror_mode": {
    "name": "ipython",
    "version": 3
   },
   "file_extension": ".py",
   "mimetype": "text/x-python",
   "name": "python",
   "nbconvert_exporter": "python",
   "pygments_lexer": "ipython3",
   "version": "3.10.12"
  }
 },
 "nbformat": 4,
 "nbformat_minor": 2
}
