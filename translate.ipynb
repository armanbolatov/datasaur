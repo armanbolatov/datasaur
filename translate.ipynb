{
 "cells": [
  {
   "cell_type": "code",
   "execution_count": 51,
   "metadata": {},
   "outputs": [],
   "source": [
    "from deep_translator import GoogleTranslator\n",
    "import json\n",
    "import glob\n",
    "import re\n",
    "import os\n",
    "import pandas as pd\n",
    "\n"
   ]
  },
  {
   "cell_type": "code",
   "execution_count": 2,
   "metadata": {},
   "outputs": [],
   "source": [
    "def split_string_into_chunks(text, max_chunk_size=4500):\n",
    "    # Use regular expressions to split the text into sentences\n",
    "    # Assumes sentences end with \".\", \"!\", or \"?\", followed by a space or newline\n",
    "    sentences = re.split(r'(?<=[.!?])\\s+', text)\n",
    " \n",
    "    # Initialize variables\n",
    "    current_chunk = \"\"\n",
    "    chunks = []\n",
    " \n",
    "    # Iterate through sentences and add them to the current chunk\n",
    "    for sentence in sentences:\n",
    "        if len(current_chunk) + len(sentence) <= max_chunk_size:\n",
    "            current_chunk += sentence + \" \"\n",
    "        else:\n",
    "            # If adding the sentence would exceed the chunk size, start a new chunk\n",
    "            chunks.append(current_chunk.strip())\n",
    "            current_chunk = sentence + \" \"\n",
    " \n",
    "    # Add the last chunk, if any\n",
    "    if current_chunk:\n",
    "        chunks.append(current_chunk.strip())\n",
    " \n",
    "    return chunks"
   ]
  },
  {
   "cell_type": "code",
   "execution_count": 52,
   "metadata": {},
   "outputs": [
    {
     "name": "stdout",
     "output_type": "stream",
     "text": [
      "data/*.csv\n",
      "data/articles.csv\n"
     ]
    },
    {
     "ename": "RequestError",
     "evalue": "Request exception can happen due to an api connection error. Please check your connection and try again",
     "output_type": "error",
     "traceback": [
      "\u001b[0;31m---------------------------------------------------------------------------\u001b[0m",
      "\u001b[0;31mRequestError\u001b[0m                              Traceback (most recent call last)",
      "\u001b[1;32m/home/yera/projects/pyth/translate/datasaur/translate.ipynb Cell 3\u001b[0m line \u001b[0;36m1\n\u001b[1;32m      <a href='vscode-notebook-cell:/home/yera/projects/pyth/translate/datasaur/translate.ipynb#W2sZmlsZQ%3D%3D?line=7'>8</a>\u001b[0m             chunks \u001b[39m=\u001b[39m split_string_into_chunks(df\u001b[39m.\u001b[39mat[ind, \u001b[39m\"\u001b[39m\u001b[39mtext\u001b[39m\u001b[39m\"\u001b[39m])\n\u001b[1;32m      <a href='vscode-notebook-cell:/home/yera/projects/pyth/translate/datasaur/translate.ipynb#W2sZmlsZQ%3D%3D?line=8'>9</a>\u001b[0m             df\u001b[39m.\u001b[39mat[ind, \u001b[39m\"\u001b[39m\u001b[39mtext\u001b[39m\u001b[39m\"\u001b[39m] \u001b[39m=\u001b[39m \u001b[39m'\u001b[39m\u001b[39m \u001b[39m\u001b[39m'\u001b[39m\u001b[39m.\u001b[39mjoin(GoogleTranslator(source\u001b[39m=\u001b[39m\u001b[39m'\u001b[39m\u001b[39mauto\u001b[39m\u001b[39m'\u001b[39m, target\u001b[39m=\u001b[39m\u001b[39m'\u001b[39m\u001b[39men\u001b[39m\u001b[39m'\u001b[39m)\u001b[39m.\u001b[39mtranslate_batch(chunks))\n\u001b[0;32m---> <a href='vscode-notebook-cell:/home/yera/projects/pyth/translate/datasaur/translate.ipynb#W2sZmlsZQ%3D%3D?line=11'>12</a>\u001b[0m translate(\u001b[39m\"\u001b[39;49m\u001b[39mdata\u001b[39;49m\u001b[39m\"\u001b[39;49m)\n",
      "\u001b[1;32m/home/yera/projects/pyth/translate/datasaur/translate.ipynb Cell 3\u001b[0m line \u001b[0;36m9\n\u001b[1;32m      <a href='vscode-notebook-cell:/home/yera/projects/pyth/translate/datasaur/translate.ipynb#W2sZmlsZQ%3D%3D?line=6'>7</a>\u001b[0m \u001b[39mfor\u001b[39;00m ind, _ \u001b[39min\u001b[39;00m df\u001b[39m.\u001b[39miterrows():\n\u001b[1;32m      <a href='vscode-notebook-cell:/home/yera/projects/pyth/translate/datasaur/translate.ipynb#W2sZmlsZQ%3D%3D?line=7'>8</a>\u001b[0m     chunks \u001b[39m=\u001b[39m split_string_into_chunks(df\u001b[39m.\u001b[39mat[ind, \u001b[39m\"\u001b[39m\u001b[39mtext\u001b[39m\u001b[39m\"\u001b[39m])\n\u001b[0;32m----> <a href='vscode-notebook-cell:/home/yera/projects/pyth/translate/datasaur/translate.ipynb#W2sZmlsZQ%3D%3D?line=8'>9</a>\u001b[0m     df\u001b[39m.\u001b[39mat[ind, \u001b[39m\"\u001b[39m\u001b[39mtext\u001b[39m\u001b[39m\"\u001b[39m] \u001b[39m=\u001b[39m \u001b[39m'\u001b[39m\u001b[39m \u001b[39m\u001b[39m'\u001b[39m\u001b[39m.\u001b[39mjoin(GoogleTranslator(source\u001b[39m=\u001b[39;49m\u001b[39m'\u001b[39;49m\u001b[39mauto\u001b[39;49m\u001b[39m'\u001b[39;49m, target\u001b[39m=\u001b[39;49m\u001b[39m'\u001b[39;49m\u001b[39men\u001b[39;49m\u001b[39m'\u001b[39;49m)\u001b[39m.\u001b[39;49mtranslate_batch(chunks))\n",
      "File \u001b[0;32m~/.local/lib/python3.10/site-packages/deep_translator/google.py:122\u001b[0m, in \u001b[0;36mGoogleTranslator.translate_batch\u001b[0;34m(self, batch, **kwargs)\u001b[0m\n\u001b[1;32m    116\u001b[0m \u001b[39mdef\u001b[39;00m \u001b[39mtranslate_batch\u001b[39m(\u001b[39mself\u001b[39m, batch: List[\u001b[39mstr\u001b[39m], \u001b[39m*\u001b[39m\u001b[39m*\u001b[39mkwargs) \u001b[39m-\u001b[39m\u001b[39m>\u001b[39m List[\u001b[39mstr\u001b[39m]:\n\u001b[1;32m    117\u001b[0m     \u001b[39m\"\"\"\u001b[39;00m\n\u001b[1;32m    118\u001b[0m \u001b[39m    translate a list of texts\u001b[39;00m\n\u001b[1;32m    119\u001b[0m \u001b[39m    @param batch: list of texts you want to translate\u001b[39;00m\n\u001b[1;32m    120\u001b[0m \u001b[39m    @return: list of translations\u001b[39;00m\n\u001b[1;32m    121\u001b[0m \u001b[39m    \"\"\"\u001b[39;00m\n\u001b[0;32m--> 122\u001b[0m     \u001b[39mreturn\u001b[39;00m \u001b[39mself\u001b[39;49m\u001b[39m.\u001b[39;49m_translate_batch(batch, \u001b[39m*\u001b[39;49m\u001b[39m*\u001b[39;49mkwargs)\n",
      "File \u001b[0;32m~/.local/lib/python3.10/site-packages/deep_translator/base.py:181\u001b[0m, in \u001b[0;36mBaseTranslator._translate_batch\u001b[0;34m(self, batch, **kwargs)\u001b[0m\n\u001b[1;32m    179\u001b[0m arr \u001b[39m=\u001b[39m []\n\u001b[1;32m    180\u001b[0m \u001b[39mfor\u001b[39;00m i, text \u001b[39min\u001b[39;00m \u001b[39menumerate\u001b[39m(batch):\n\u001b[0;32m--> 181\u001b[0m     translated \u001b[39m=\u001b[39m \u001b[39mself\u001b[39;49m\u001b[39m.\u001b[39;49mtranslate(text, \u001b[39m*\u001b[39;49m\u001b[39m*\u001b[39;49mkwargs)\n\u001b[1;32m    182\u001b[0m     arr\u001b[39m.\u001b[39mappend(translated)\n\u001b[1;32m    183\u001b[0m \u001b[39mreturn\u001b[39;00m arr\n",
      "File \u001b[0;32m~/.local/lib/python3.10/site-packages/deep_translator/google.py:74\u001b[0m, in \u001b[0;36mGoogleTranslator.translate\u001b[0;34m(self, text, **kwargs)\u001b[0m\n\u001b[1;32m     71\u001b[0m     \u001b[39mraise\u001b[39;00m TooManyRequests()\n\u001b[1;32m     73\u001b[0m \u001b[39mif\u001b[39;00m request_failed(status_code\u001b[39m=\u001b[39mresponse\u001b[39m.\u001b[39mstatus_code):\n\u001b[0;32m---> 74\u001b[0m     \u001b[39mraise\u001b[39;00m RequestError()\n\u001b[1;32m     76\u001b[0m soup \u001b[39m=\u001b[39m BeautifulSoup(response\u001b[39m.\u001b[39mtext, \u001b[39m\"\u001b[39m\u001b[39mhtml.parser\u001b[39m\u001b[39m\"\u001b[39m)\n\u001b[1;32m     78\u001b[0m element \u001b[39m=\u001b[39m soup\u001b[39m.\u001b[39mfind(\u001b[39mself\u001b[39m\u001b[39m.\u001b[39m_element_tag, \u001b[39mself\u001b[39m\u001b[39m.\u001b[39m_element_query)\n",
      "\u001b[0;31mRequestError\u001b[0m: Request exception can happen due to an api connection error. Please check your connection and try again"
     ]
    }
   ],
   "source": [
    "def translate(path):\n",
    "    print(rf'{path}/*.csv')\n",
    "    for file in glob.glob(rf'{path}/*.csv'):\n",
    "        print(file)\n",
    "        df = pd.read_csv(file, index_col=\"Unnamed: 0\", engine=\"python\")\n",
    "        \n",
    "        for ind, _ in df.iterrows():\n",
    "            chunks = split_string_into_chunks(df.at[ind, \"text\"])\n",
    "            df.at[ind, \"text\"] = ' '.join(GoogleTranslator(source='auto', target='en').translate_batch(chunks))\n",
    "        \n",
    "\n",
    "translate(\"data\")"
   ]
  }
 ],
 "metadata": {
  "kernelspec": {
   "display_name": "Python 3",
   "language": "python",
   "name": "python3"
  },
  "language_info": {
   "codemirror_mode": {
    "name": "ipython",
    "version": 3
   },
   "file_extension": ".py",
   "mimetype": "text/x-python",
   "name": "python",
   "nbconvert_exporter": "python",
   "pygments_lexer": "ipython3",
   "version": "3.10.12"
  }
 },
 "nbformat": 4,
 "nbformat_minor": 2
}
