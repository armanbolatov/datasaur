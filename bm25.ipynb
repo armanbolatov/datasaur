{
 "cells": [
  {
   "cell_type": "code",
   "execution_count": 1,
   "metadata": {},
   "outputs": [],
   "source": [
    "import numpy as np\n",
    "from rank_bm25 import BM25Okapi\n",
    "import pandas as pd\n",
    "\n",
    "df_path = 'data/concated/'\n",
    "articles = pd.read_csv(df_path + 'articles.csv', index_col=\"Unnamed: 0\")\n",
    "life_situations = pd.read_csv(df_path + 'life_situations.csv', index_col=\"Unnamed: 0\")\n",
    "news = pd.read_csv(df_path + 'news.csv', index_col=\"Unnamed: 0\")\n",
    "services = pd.read_csv(df_path + 'services.csv', index_col=\"Unnamed: 0\")"
   ]
  },
  {
   "cell_type": "code",
   "execution_count": 2,
   "metadata": {},
   "outputs": [
    {
     "data": {
      "text/html": [
       "<div>\n",
       "<style scoped>\n",
       "    .dataframe tbody tr th:only-of-type {\n",
       "        vertical-align: middle;\n",
       "    }\n",
       "\n",
       "    .dataframe tbody tr th {\n",
       "        vertical-align: top;\n",
       "    }\n",
       "\n",
       "    .dataframe thead th {\n",
       "        text-align: right;\n",
       "    }\n",
       "</style>\n",
       "<table border=\"1\" class=\"dataframe\">\n",
       "  <thead>\n",
       "    <tr style=\"text-align: right;\">\n",
       "      <th></th>\n",
       "      <th>true_id</th>\n",
       "      <th>text</th>\n",
       "      <th>url</th>\n",
       "    </tr>\n",
       "  </thead>\n",
       "  <tbody>\n",
       "    <tr>\n",
       "      <th>0</th>\n",
       "      <td>2884</td>\n",
       "      <td>Бешенство – смертельная угроза для человека! Б...</td>\n",
       "      <td>https://www.gov.kz/memleket/entities/departame...</td>\n",
       "    </tr>\n",
       "    <tr>\n",
       "      <th>1</th>\n",
       "      <td>2885</td>\n",
       "      <td>Порядок администрирования налога на транспортн...</td>\n",
       "      <td>https://www.gov.kz/memleket/entities/kgd-karag...</td>\n",
       "    </tr>\n",
       "    <tr>\n",
       "      <th>2</th>\n",
       "      <td>2886</td>\n",
       "      <td>Спорт Миссия: формирование единой государствен...</td>\n",
       "      <td>https://www.gov.kz/memleket/entities/turkestan...</td>\n",
       "    </tr>\n",
       "    <tr>\n",
       "      <th>3</th>\n",
       "      <td>2887</td>\n",
       "      <td>ҚАЗАҚСТАННЫҢ МЕМЛЕКЕТТІК ОРГАНДАРЫМЕН БАЙЛАНЫС...</td>\n",
       "      <td>https://www.gov.kz/memleket/entities/qazalem/p...</td>\n",
       "    </tr>\n",
       "    <tr>\n",
       "      <th>4</th>\n",
       "      <td>2888</td>\n",
       "      <td>2022 жылға жергілікті атқарушы органдармен сыб...</td>\n",
       "      <td>https://www.gov.kz/memleket/entities/kyzylorda...</td>\n",
       "    </tr>\n",
       "    <tr>\n",
       "      <th>...</th>\n",
       "      <td>...</td>\n",
       "      <td>...</td>\n",
       "      <td>...</td>\n",
       "    </tr>\n",
       "    <tr>\n",
       "      <th>201948</th>\n",
       "      <td>2835</td>\n",
       "      <td>Aqparat ózektendirý satysynda. Úshinshi tulǵal...</td>\n",
       "      <td>https://beta2.egov.kz/services/4149?lang=qq</td>\n",
       "    </tr>\n",
       "    <tr>\n",
       "      <th>201949</th>\n",
       "      <td>2867</td>\n",
       "      <td>Memlekettik qyzmet kórsetý erezhesi Qurmetti Q...</td>\n",
       "      <td>https://beta2.egov.kz/services/3570?lang=qq</td>\n",
       "    </tr>\n",
       "    <tr>\n",
       "      <th>201950</th>\n",
       "      <td>2868</td>\n",
       "      <td>Возмещение затрат на повышение компетенции раб...</td>\n",
       "      <td>https://beta2.egov.kz/services/4724?lang=ru</td>\n",
       "    </tr>\n",
       "    <tr>\n",
       "      <th>201951</th>\n",
       "      <td>2869</td>\n",
       "      <td>Возмещение затрат на повышение эффективности о...</td>\n",
       "      <td>https://beta2.egov.kz/services/4725?lang=ru</td>\n",
       "    </tr>\n",
       "    <tr>\n",
       "      <th>201952</th>\n",
       "      <td>2883</td>\n",
       "      <td>Memlekettik qyzmet kórsetý erezhesi Aqparat óz...</td>\n",
       "      <td>https://beta2.egov.kz/services/4182?lang=qq</td>\n",
       "    </tr>\n",
       "  </tbody>\n",
       "</table>\n",
       "<p>201953 rows × 3 columns</p>\n",
       "</div>"
      ],
      "text/plain": [
       "        true_id                                               text  \\\n",
       "0          2884  Бешенство – смертельная угроза для человека! Б...   \n",
       "1          2885  Порядок администрирования налога на транспортн...   \n",
       "2          2886  Спорт Миссия: формирование единой государствен...   \n",
       "3          2887  ҚАЗАҚСТАННЫҢ МЕМЛЕКЕТТІК ОРГАНДАРЫМЕН БАЙЛАНЫС...   \n",
       "4          2888  2022 жылға жергілікті атқарушы органдармен сыб...   \n",
       "...         ...                                                ...   \n",
       "201948     2835  Aqparat ózektendirý satysynda. Úshinshi tulǵal...   \n",
       "201949     2867  Memlekettik qyzmet kórsetý erezhesi Qurmetti Q...   \n",
       "201950     2868  Возмещение затрат на повышение компетенции раб...   \n",
       "201951     2869  Возмещение затрат на повышение эффективности о...   \n",
       "201952     2883  Memlekettik qyzmet kórsetý erezhesi Aqparat óz...   \n",
       "\n",
       "                                                      url  \n",
       "0       https://www.gov.kz/memleket/entities/departame...  \n",
       "1       https://www.gov.kz/memleket/entities/kgd-karag...  \n",
       "2       https://www.gov.kz/memleket/entities/turkestan...  \n",
       "3       https://www.gov.kz/memleket/entities/qazalem/p...  \n",
       "4       https://www.gov.kz/memleket/entities/kyzylorda...  \n",
       "...                                                   ...  \n",
       "201948        https://beta2.egov.kz/services/4149?lang=qq  \n",
       "201949        https://beta2.egov.kz/services/3570?lang=qq  \n",
       "201950        https://beta2.egov.kz/services/4724?lang=ru  \n",
       "201951        https://beta2.egov.kz/services/4725?lang=ru  \n",
       "201952        https://beta2.egov.kz/services/4182?lang=qq  \n",
       "\n",
       "[201953 rows x 3 columns]"
      ]
     },
     "execution_count": 2,
     "metadata": {},
     "output_type": "execute_result"
    }
   ],
   "source": [
    "article = articles[['true_id', 'text', 'url']]\n",
    "life_situations.rename(columns={'URL': 'url'}, inplace=True)\n",
    "life_situations = life_situations[['true_id', 'text', 'url']]\n",
    "news = news[['true_id', 'text', 'url']]\n",
    "services = services[['true_id', 'text', 'url']]\n",
    "\n",
    "# Then you can concatenate all the dataframes into one\n",
    "all_data = pd.concat([article, life_situations, news, services], ignore_index=True)\n",
    "all_data"
   ]
  },
  {
   "cell_type": "code",
   "execution_count": 3,
   "metadata": {},
   "outputs": [],
   "source": [
    "import pickle\n",
    "\n",
    "id_dict = all_data.reset_index().set_index('index')['true_id'].to_dict()\n",
    "with open('application/id_dict.pickle', 'wb') as handle:\n",
    "    pickle.dump(id_dict, handle, protocol=pickle.HIGHEST_PROTOCOL)\n",
    "\n",
    "all_data.to_csv('application/all_data.csv')"
   ]
  },
  {
   "cell_type": "code",
   "execution_count": 4,
   "metadata": {},
   "outputs": [
    {
     "data": {
      "text/plain": [
       "array(['Бешенство – смертельная угроза для человека! Бешенство – природно-очаговое особо опасное, смертельное заболевание. Среди инфекционных болезней бешенство занимает особое место в силу абсолютной летальности (если в первые же часы не оказать зараженному человеку необходимую помощь, он неминуемо погибнет). Бешенство является неизлечимой болезнью, смерть наступает от паралича дыхания и упадка сердечной деятельности. Человек умирает в полном сознании и в страшных муках. Северо-Казахстанская область находится в зоне природного очага бешенства. В нашей области эпизоотическая активность природных очагов отмечается в зимне-весенний период, когда опасный вирус чаще заносится дикими животными в населенные пункты, где заражаются собаки, кошки, сельскохозяйственные животные и возрастает риск заражения людей. Благодаря активной профилактической работе в Северо-Казахстанской области заболевания людей бешенством не отмечается с 1998 года. Естественным резервуаром являются грызуны. Домашние животные заражаются бешенством после контакта с больными дикими животными. Переносчиками инфекции могут быть не только домашние и сельскохозяйственные животные ну и летучие мыши. Основными животными-источниками заражения являются из диких животных — волки, лисицы, шакалы, енотовидные собаки, скунсы, летучие мыши и грызуны, из домашних животных — собаки и кошки. Заражение людей бешенством в основном происходит при укусах, и ослюнении больными животными. За 8 месяцев 2023 года по области за антирабической помощью обратилось 987 человек, показатель на 100 тыс. населения составил – 183,8. (за 8 месяцев 2022 года - 907 человек, показатель на 100 тыс. населения составил – 166,8). По области в сравнении с 2022 годом отмечается увеличение обращаемости населения за антирабической помощью на 8,1%. По всем случаям обращения за антирабической помощью проведены эпизоотолого-эпидемиологические расследования. Из числа обратившихся получили назначение на прививки – 986 человек. Получили прививки – 986 человек, в том числе по условному курсу – 508, безусловному – 478. Вирус проникает в рану со слюной, продвигается по нервным путям и поражает центральную нервную систему. От времени заражения до появления признаков заболевания может пройти от нескольких суток до года. Всем людям, укушенным животными необходимо немедленно промыть место укуса водой с мылом в течении 15-20 минут (не менее), края раны обработать 70% спиртом или 5% настойкой йода, и как можно раньше обратиться в медицинское учреждение, где будет бесплатно проведена иммунизация против бешенства. По существующим правилам собак необходимо содержать на привязи, в конуре или вольере, на прогулку выводить на поводке и в наморднике. Не следует допускать контакта домашних животных с бродячими собаками и дикими животными, которые могут быть источником инфекции. Все собаки подлежат прививкам против бешенства. Лечение против бешенства не существует. Заболевание можно предотвратить только вакцинацией! Профилактические прививки безболезненные и легко переносятся. В период вакцинации рекомендуется усиленное питание, богатое витаминами и белками, следует избегать переохлаждения, перегревания, переутомления организма, а также воздерживаться от употребления алкогольных напитков. В связи с проведением разъяснения о необходимости иммунизации, от получения антирабических прививок, отказавшихся нет. Эффективность прививок зависит от своевременности их проведения. Каждый пропущенный день – смертельная угроза! Берегите себя!',\n",
       "       'Порядок администрирования налога на транспортные средства физических лиц В соответствии с пунктом 2 статьи 66 Закона «О дорожном движении» обязанность зарегистрировать транспортные средства в уполномоченном органе по обеспечению безопасности дорожного движения возложена на владельцев транспортных средств. В то же время прекращение государственной регистрации транспортного средства производится по заявлению владельца в связи с утратой, отчуждением транспортного средства другому лицу, а также снятием его с регистрационного учета перед утилизацией или вывозом на постоянное пребывание за пределы Республики Казахстан или в соответствии с иными обстоятельствами. Таким образом, обязанность регистрации и прекращения регистрации транспортного средства в уполномоченном органе, а именно в Департаменте полиции Карагандинской области, возложена на владельцев автотранспортных средств. Уплата налога физическими лицами производится в бюджет по месту жительства не позднее 1 апреля года, следующего за отчетным налоговым периодом (пункт 4 статьи 494 Налогового кодекса). Уплата налога на транспортные средства за налоговый период физическим лицом, являющимся поверенным на основании доверенности на управление транспортным средством с правом отчуждения, от имени собственника транспортного средства является исполнением налогового обязательства собственника транспортного средства за данный налоговый период (пункт 5 статьи 494 Налогового кодекса). Согласно статьи 5 Налогового кодекса налогоплательщик обязан исполнять налоговое обязательство, исчислять, удерживать и перечислять налоги в соответствии с налоговым законодательством Республики Казахстан в полном объеме и в установленные сроки.',\n",
       "       'Спорт Миссия: формирование единой государственной политики в области физической культуры и спорта и создание необходимых условий. Задачи: 1) запрашивать в установленном порядке от государственных органов и должностных лиц, иных организаций и граждан информацию, необходимую для выполнения своих организаций к участию в подготовке вопросов, относящихся к компетенции Государственного органа, создавать временные рабочие группы для выработки соответствующих предложений; 2) вносить предложения акиму района по совершенствованию организаций деятельности государственных органов в сфере физической культуры и спорта, осуществлять подготовку информационно — аналитических и иных материалов по вопросам, относящимся к ведению Государственного органа; 3) вносить представления, относящиеся к сфере деятельности Государственного органа, соответствующим государственным органам и должностным лицам, контролировать их исполнение, а также участвовать в мероприятиях, проводимых местными исполнительными органами; 4) осуществлять финансирование государственного заказа на проведение мероприятии в сфере физической культуры и спорта; 5) оказывать организационно – методическую, информационную и иную помощь должностным лицам государственных органов, в ведении которых находятся вопросы сферы физической культуры и спорта, соблюдения прав человека и иные вопросы, входящие в компетенцию Государственного органа; 6) проводить заседания Государственного органа, по вопросам, относящимся к его компетенции; 7) осуществлять иные полномочия в соответствии с законодательством Республики Казахстан. Функции: 1) разрабатывает и реализует районные планы развития физической культуры и спорта; 2) проводит соревнования по видам спорта на районном уровне; 3) обеспечивает подготовку районных сборных команд по различным видам спорта и их выступления на областных спортивных соревнованиях;4) развивает массовый спорт и национальные виды спорта на территории соответствующей административно-территориальной единицы; 5) координирует деятельность районных специализированных учебно-спортивных заведений; 6) присваивает спортивные разряды и категории: второй и третий, первый, второй и третий юношеские, тренер высшего и среднего уровня квалификации второй категории, инструктор — спортсмен высшего уровня квалификации второй категории, методист высшего и среднего уровня квалификации второй категории, судья по спорту; 7) разрабатывает, утверждает и реализует календарный план районных спортивно-массовых мероприятий; 8) координирует деятельность спортивных организаций на территории соответствующей административно-территориальной единицы; 9) координирует организацию и проведение спортивных мероприятий на территории соответствующей административно-территориальной единицы; 10) анализирует и представляет областному исполнительному органу сведения по развитию физической культуры и спорта по соответствующей административно-территориальной единице; 11) осуществляет реализацию мероприятий, направленных на выполнение региональных программ развития туризма; 12) осуществляет в интересах местного государственного управления иные полномочия, возлагаемые на местные исполнительные органы законодательством Республики Казахстан. Права и обязанности: 1) вести служебную переписку с государственными и негосударственными органами и организациями по вопросам, отнесенным к ведению Государственного органа; 2) запрашивать и получать от районных управлений, ведомств, акимов сельских округов необходимые документы, информацию, объяснения по деятельности местных исполнительных органов, отдельных должностных лиц, отнесенные к компетенции, привлекать работников исполнительных органов района к участию в решении вопросов, отнесенных к компетенции Государственного органа; 3) участвовать в проведении проверок исполнения Законов Республики Казахстан, актов Президента Республики Казахстан, Правительства, постановлений акимата, решений и распоряжений акима области, района, принимать меры по устранению выявленных нарушений, выявлять причины и условия их неисполнения; 4) участвовать в заседаниях, совещаниях, коллегиях районных управлений и иных местных исполнительных органов.',\n",
       "       ..., 'Возмещение затрат на повышение компетенции работников',\n",
       "       'Возмещение затрат на повышение эффективности организации производства',\n",
       "       'Memlekettik qyzmet kórsetý erezhesi Aqparat ózektendirý satysynda. \"Memlekettik kórsetiletin qyzmetter tizilimin bekitý týraly\" Qazaqstan Respýblikasy Úkimetiniń 2013 zhylǵy 18 qyrkúiektegi №983 qaýlysyna ózgerister men tolyqtyrýlar engizý týraly Qazaqstan Respýblikasy Úkimetiniń 2019 zhylǵy 30 qyrkúiektegi №726 qaýlysyna sáikes \"Zhumyssyz retinde tirkeý týraly anyqtama berý\" memlekettik qyzmeti elektrondyq formatqa kóshirildi. Standart áli bekitilgen zhoq. Zhumyssyzdar – zhumys izdeýdi zhúzege asyratyn zháne zhumysqa kirisýge daiyn zheke tulǵalar. Zhumyssyz retinde tirkeý týraly anyqtama berý Zhumyssyz retinde tirkeý týraly anyqtama berý.'],\n",
       "      dtype=object)"
      ]
     },
     "execution_count": 4,
     "metadata": {},
     "output_type": "execute_result"
    }
   ],
   "source": [
    "corpus = all_data['text'].values\n",
    "corpus"
   ]
  },
  {
   "cell_type": "code",
   "execution_count": 5,
   "metadata": {},
   "outputs": [
    {
     "name": "stderr",
     "output_type": "stream",
     "text": [
      "100%|██████████| 201953/201953 [51:17<00:00, 65.62it/s]  \n"
     ]
    }
   ],
   "source": [
    "import nltk\n",
    "from nltk.corpus import stopwords\n",
    "from nltk.stem import PorterStemmer, SnowballStemmer\n",
    "from nltk.tokenize import word_tokenize\n",
    "from tqdm import tqdm\n",
    "\n",
    "def stem_token(token, stemmer):\n",
    "    return stemmer.stem(token) if any(c.isalpha() for c in token) else \"\"\n",
    "\n",
    "english_stemmer = PorterStemmer()\n",
    "russian_stemmer = SnowballStemmer(\"russian\")\n",
    "stop_words = set(stopwords.words('english')).union(set(stopwords.words('russian')))\n",
    "\n",
    "def preprocess(doc):\n",
    "    doc = doc.lower().replace('\\n', ' ')\n",
    "    tokens = word_tokenize(doc)\n",
    "    stemmed_tokens = [stem_token(token, english_stemmer) for token in tokens if token not in stop_words]\n",
    "    result = [stem_token(token, russian_stemmer) for token in stemmed_tokens if token not in stop_words]\n",
    "\n",
    "    return result\n",
    "\n",
    "preprocessed_corpus = [preprocess(doc) for doc in tqdm(corpus)]"
   ]
  },
  {
   "cell_type": "code",
   "execution_count": 46,
   "metadata": {},
   "outputs": [],
   "source": [
    "with open('application/preprocessed_corpus.pickle', 'wb') as handle:\n",
    "    pickle.dump(preprocessed_corpus, handle, protocol=pickle.HIGHEST_PROTOCOL)\n",
    "\n",
    "bm25 = BM25Okapi(preprocessed_corpus, k1=2.3, b=0.8)\n",
    "with open('application/bm25.pickle', 'wb') as handle:\n",
    "    pickle.dump(bm25, handle, protocol=pickle.HIGHEST_PROTOCOL)"
   ]
  },
  {
   "cell_type": "code",
   "execution_count": 47,
   "metadata": {},
   "outputs": [
    {
     "data": {
      "text/html": [
       "<div>\n",
       "<style scoped>\n",
       "    .dataframe tbody tr th:only-of-type {\n",
       "        vertical-align: middle;\n",
       "    }\n",
       "\n",
       "    .dataframe tbody tr th {\n",
       "        vertical-align: top;\n",
       "    }\n",
       "\n",
       "    .dataframe thead th {\n",
       "        text-align: right;\n",
       "    }\n",
       "</style>\n",
       "<table border=\"1\" class=\"dataframe\">\n",
       "  <thead>\n",
       "    <tr style=\"text-align: right;\">\n",
       "      <th></th>\n",
       "      <th>id</th>\n",
       "      <th>question</th>\n",
       "    </tr>\n",
       "  </thead>\n",
       "  <tbody>\n",
       "    <tr>\n",
       "      <th>0</th>\n",
       "      <td>1</td>\n",
       "      <td>Алғашқы медициналық-санитариялық көмек көрсете...</td>\n",
       "    </tr>\n",
       "    <tr>\n",
       "      <th>1</th>\n",
       "      <td>2</td>\n",
       "      <td>How can I make an online reservation for servi...</td>\n",
       "    </tr>\n",
       "    <tr>\n",
       "      <th>2</th>\n",
       "      <td>3</td>\n",
       "      <td>Online services Egov</td>\n",
       "    </tr>\n",
       "    <tr>\n",
       "      <th>3</th>\n",
       "      <td>4</td>\n",
       "      <td>Telegram bot Egov servces</td>\n",
       "    </tr>\n",
       "    <tr>\n",
       "      <th>4</th>\n",
       "      <td>5</td>\n",
       "      <td>Where can I find the latest updates and inform...</td>\n",
       "    </tr>\n",
       "    <tr>\n",
       "      <th>...</th>\n",
       "      <td>...</td>\n",
       "      <td>...</td>\n",
       "    </tr>\n",
       "    <tr>\n",
       "      <th>119</th>\n",
       "      <td>120</td>\n",
       "      <td>How to change your name in Kazakhstan?</td>\n",
       "    </tr>\n",
       "    <tr>\n",
       "      <th>120</th>\n",
       "      <td>121</td>\n",
       "      <td>Requirements for changing surname, name, or pa...</td>\n",
       "    </tr>\n",
       "    <tr>\n",
       "      <th>121</th>\n",
       "      <td>122</td>\n",
       "      <td>Process of changing name due to marriage or di...</td>\n",
       "    </tr>\n",
       "    <tr>\n",
       "      <th>122</th>\n",
       "      <td>123</td>\n",
       "      <td>Can I change my name online in Kazakhstan?</td>\n",
       "    </tr>\n",
       "    <tr>\n",
       "      <th>123</th>\n",
       "      <td>124</td>\n",
       "      <td>Documents needed for a name change in Kazakhstan.</td>\n",
       "    </tr>\n",
       "  </tbody>\n",
       "</table>\n",
       "<p>124 rows × 2 columns</p>\n",
       "</div>"
      ],
      "text/plain": [
       "      id                                           question\n",
       "0      1  Алғашқы медициналық-санитариялық көмек көрсете...\n",
       "1      2  How can I make an online reservation for servi...\n",
       "2      3                               Online services Egov\n",
       "3      4                          Telegram bot Egov servces\n",
       "4      5  Where can I find the latest updates and inform...\n",
       "..   ...                                                ...\n",
       "119  120             How to change your name in Kazakhstan?\n",
       "120  121  Requirements for changing surname, name, or pa...\n",
       "121  122  Process of changing name due to marriage or di...\n",
       "122  123         Can I change my name online in Kazakhstan?\n",
       "123  124  Documents needed for a name change in Kazakhstan.\n",
       "\n",
       "[124 rows x 2 columns]"
      ]
     },
     "execution_count": 47,
     "metadata": {},
     "output_type": "execute_result"
    }
   ],
   "source": [
    "test = pd.read_csv('epir_test.csv')\n",
    "test"
   ]
  },
  {
   "cell_type": "code",
   "execution_count": 48,
   "metadata": {},
   "outputs": [],
   "source": [
    "def get_indexes(query, n):\n",
    "    preprocessed_query = preprocess(query)\n",
    "    doc_scores = bm25.get_scores(preprocessed_query)\n",
    "    indices = np.argsort(doc_scores)[-n:]  # get indices of top 5 scores\n",
    "    relevant_docs = [id_dict[index] for index in reversed(indices)]  # reverse to start from highest\n",
    "    return relevant_docs\n",
    "\n",
    "def get_most_relevant_index(query, n=5):\n",
    "    indexes = get_indexes(query, n)\n",
    "    return indexes[0]"
   ]
  },
  {
   "cell_type": "code",
   "execution_count": 49,
   "metadata": {},
   "outputs": [
    {
     "name": "stderr",
     "output_type": "stream",
     "text": [
      "  0%|          | 0/124 [00:00<?, ?it/s]"
     ]
    },
    {
     "name": "stderr",
     "output_type": "stream",
     "text": [
      "100%|██████████| 124/124 [01:06<00:00,  1.86it/s]\n"
     ]
    }
   ],
   "source": [
    "from tqdm import tqdm\n",
    "tqdm.pandas()\n",
    "\n",
    "# apply get_index, but save the most relevant document\n",
    "test['index'] = test['question'].progress_apply(get_most_relevant_index)\n",
    "test[['id', 'index']].to_csv('submission.csv', index=False)"
   ]
  }
 ],
 "metadata": {
  "kernelspec": {
   "display_name": "Python 3",
   "language": "python",
   "name": "python3"
  },
  "language_info": {
   "codemirror_mode": {
    "name": "ipython",
    "version": 3
   },
   "file_extension": ".py",
   "mimetype": "text/x-python",
   "name": "python",
   "nbconvert_exporter": "python",
   "pygments_lexer": "ipython3",
   "version": "3.8.10"
  }
 },
 "nbformat": 4,
 "nbformat_minor": 2
}
